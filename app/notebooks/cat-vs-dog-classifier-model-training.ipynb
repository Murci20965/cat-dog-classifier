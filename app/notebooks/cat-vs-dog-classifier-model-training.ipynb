{
  "nbformat": 4,
  "nbformat_minor": 0,
  "metadata": {
    "colab": {
      "provenance": [],
      "gpuType": "T4"
    },
    "kernelspec": {
      "name": "python3",
      "display_name": "Python 3"
    },
    "language_info": {
      "name": "python"
    },
    "accelerator": "GPU"
  },
  "cells": [
    {
      "cell_type": "markdown",
      "source": [
        "# 🐾 Cat vs. Dog Image Classifier 🐈\n",
        "\n",
        "**Goal:** To train a deep learning model that can accurately classify images as either a 'cat' or a 'dog'.\n",
        "\n",
        "This notebook uses the `fastai` library to build a simple but powerful computer vision model based on the Oxford-IIIT Pet Dataset.\n",
        "\n",
        "\n",
        "\n",
        "### Workflow:\n",
        "1.  **Download & Prepare Data:** Get the dataset and set it up for the model.\n",
        "2.  **Train the Model:** Use a pre-trained Convolutional Neural Network (CNN) and fine-tune it on the downloaded data.\n",
        "3.  **Export the Model:** Save the trained model to a `.pkl` file for use in a web application.\n",
        "\n",
        "---\n",
        "\n",
        "## 1. Install packages and download the dataset"
      ],
      "metadata": {
        "id": "_G83pVcq8-Gz"
      }
    },
    {
      "cell_type": "code",
      "execution_count": null,
      "metadata": {
        "id": "dYc1kz9t6l_6"
      },
      "outputs": [],
      "source": [
        "# STEP 1: Install and import fastai\n",
        "# The '!' lets us run a command line command.\n",
        "# '-Uqq' means 'upgrade' and 'quietly' (to keep the output clean)\n",
        "!pip install -Uqq fastai\n",
        "\n",
        "# Import all the tools we need from the fastai vision library\n",
        "from fastai.vision.all import *"
      ]
    },
    {
      "cell_type": "code",
      "source": [
        "# STEP 2: Download and prepare the dataset\n",
        "# fastai's 'untar_data' function downloads a dataset, extracts it,\n",
        "# and returns the path where it's stored.\n",
        "path = untar_data(URLs.PETS)"
      ],
      "metadata": {
        "id": "YFl_wlrX9duL"
      },
      "execution_count": null,
      "outputs": []
    },
    {
      "cell_type": "markdown",
      "source": [
        "---\n",
        "## 2. Structuring the Data with a `DataBlock`\n",
        "\n",
        "The `DataBlock` is a core `fastai` concept. A blueprint that describes how to assemble the raw data into something a model can train on. Specify:\n",
        "- **`blocks`**: What are independent (`ImageBlock`) and dependent (`CategoryBlock`) variables?\n",
        "- **`get_items`**: Find all our input items? (`get_image_files`)\n",
        "- **`splitter`**: Split the data into training and validation sets? (`RandomSplitter`)\n",
        "- **`get_y`**: Get the label for each image? (From the filename, using a regular expression)\n",
        "- **`item_tfms`**: Apply transforms to each individual item? (`Resize`)\n",
        "- **`batch_tfms`**: Apply transforms to a whole batch of items at once on the GPU? (`aug_transforms` for data augmentation)"
      ],
      "metadata": {
        "id": "pgH-gpUN88RU"
      }
    },
    {
      "cell_type": "code",
      "source": [
        "# STEP 3 (Corrected): Define the DataBlock and create DataLoaders\n",
        "\n",
        "# This function determines if an image is a cat or a dog.\n",
        "# We use x.name to get the filename string from the path object.\n",
        "def is_cat(x): return x.name[0].isupper() # <--- THE FIX IS HERE\n",
        "\n",
        "dblock = DataBlock(\n",
        "    blocks=[ImageBlock, CategoryBlock],\n",
        "    get_items=get_image_files,\n",
        "    splitter=RandomSplitter(valid_pct=0.2, seed=42),\n",
        "    get_y=is_cat,\n",
        "    item_tfms=[Resize(224)]\n",
        ")\n",
        "\n",
        "# Create the DataLoaders object\n",
        "dls = dblock.dataloaders(path/\"images\")"
      ],
      "metadata": {
        "id": "sdkZnWuVDyDe"
      },
      "execution_count": null,
      "outputs": []
    },
    {
      "cell_type": "code",
      "source": [
        "# Verify our data looks correct\n",
        "dls.show_batch(max_n=6)"
      ],
      "metadata": {
        "id": "NgrduCoHMuW1"
      },
      "execution_count": null,
      "outputs": []
    },
    {
      "cell_type": "markdown",
      "source": [
        "---\n",
        "## 3. Train the Model\n",
        "\n",
        "Train the model using a powerful technique called **transfer learning**. Instead of teaching a model from scratch, start with one that has already been trained on millions of general images (a dataset called ImageNet) by using the famous **`resnet34`** architecture.\n",
        "\n",
        "The `vision_learner` function builds the model. Use `error_rate` as the metric to see how well it's performing.\n",
        "\n",
        "Finally, use the `.fine_tune()` method, which is the best way to train a transfer learning model. It quickly and safely adapts the pre-trained model to the specific cat-vs-dog task."
      ],
      "metadata": {
        "id": "7LrxTCRAW5jT"
      }
    },
    {
      "cell_type": "code",
      "source": [
        "# STEP 4: Create and train the vision learner\n",
        "learn = vision_learner(dls, resnet34, metrics=error_rate)\n",
        "\n",
        "# Fine-tune the model for one \"epoch\" (one full pass through the data)\n",
        "learn.fine_tune(1)"
      ],
      "metadata": {
        "id": "ScZCBzBCW689"
      },
      "execution_count": null,
      "outputs": []
    },
    {
      "cell_type": "markdown",
      "source": [
        "---\n",
        "## 4. Export the Model for Inference\n",
        "\n",
        "Now that the model is trained, Save it. Use the `learn.export()` method, which bundles the entire `Learner` object (the model architecture, the trained weights, and the necessary data transformations) into a single file called a `.pkl` file. This file contains everything the final application will need to make predictions."
      ],
      "metadata": {
        "id": "v5J32K7Zbbem"
      }
    },
    {
      "cell_type": "code",
      "source": [
        "# STEP 5: Export the learner object\n",
        "learn.export('cat_dog_classifier_v1.pkl')"
      ],
      "metadata": {
        "id": "xuW5AL0Ubc4j"
      },
      "execution_count": null,
      "outputs": []
    }
  ]
}